{
  "nbformat": 4,
  "nbformat_minor": 0,
  "metadata": {
    "colab": {
      "provenance": []
    },
    "kernelspec": {
      "name": "python3",
      "display_name": "Python 3"
    },
    "language_info": {
      "name": "python"
    }
  },
  "cells": [
    {
      "cell_type": "code",
      "execution_count": 1,
      "metadata": {
        "id": "c2vKrfB6g_Xc"
      },
      "outputs": [],
      "source": [
        "import numpy as np"
      ]
    },
    {
      "cell_type": "code",
      "source": [
        "list(range(0,10))"
      ],
      "metadata": {
        "colab": {
          "base_uri": "https://localhost:8080/"
        },
        "id": "l3hdDcK-hgTb",
        "outputId": "664fd67c-d57f-4789-eb07-4d5a1afb25b4"
      },
      "execution_count": 2,
      "outputs": [
        {
          "output_type": "execute_result",
          "data": {
            "text/plain": [
              "[0, 1, 2, 3, 4, 5, 6, 7, 8, 9]"
            ]
          },
          "metadata": {},
          "execution_count": 2
        }
      ]
    },
    {
      "cell_type": "code",
      "source": [
        "np.arange(0,10)\n",
        "arr= np.arange(0,10)\n",
        "arr"
      ],
      "metadata": {
        "colab": {
          "base_uri": "https://localhost:8080/"
        },
        "id": "tGZU7s9Dh2Lp",
        "outputId": "0f1edd29-814f-4ea2-cce2-4542aa5a714d"
      },
      "execution_count": 7,
      "outputs": [
        {
          "output_type": "execute_result",
          "data": {
            "text/plain": [
              "array([0, 1, 2, 3, 4, 5, 6, 7, 8, 9])"
            ]
          },
          "metadata": {},
          "execution_count": 7
        }
      ]
    },
    {
      "cell_type": "code",
      "source": [
        "np.zeros((2,6))"
      ],
      "metadata": {
        "colab": {
          "base_uri": "https://localhost:8080/"
        },
        "id": "Jb4Ohzfoi2rd",
        "outputId": "dd41d380-ee44-413b-fcda-1fdca42c3707"
      },
      "execution_count": 9,
      "outputs": [
        {
          "output_type": "execute_result",
          "data": {
            "text/plain": [
              "array([[0., 0., 0., 0., 0., 0.],\n",
              "       [0., 0., 0., 0., 0., 0.]])"
            ]
          },
          "metadata": {},
          "execution_count": 9
        }
      ]
    },
    {
      "cell_type": "code",
      "source": [
        "np.zeros((4,8))"
      ],
      "metadata": {
        "colab": {
          "base_uri": "https://localhost:8080/"
        },
        "id": "jbLQjD4ZjWm4",
        "outputId": "4917123e-fd4f-4f71-c406-8103b45b64fa"
      },
      "execution_count": 10,
      "outputs": [
        {
          "output_type": "execute_result",
          "data": {
            "text/plain": [
              "array([[0., 0., 0., 0., 0., 0., 0., 0.],\n",
              "       [0., 0., 0., 0., 0., 0., 0., 0.],\n",
              "       [0., 0., 0., 0., 0., 0., 0., 0.],\n",
              "       [0., 0., 0., 0., 0., 0., 0., 0.]])"
            ]
          },
          "metadata": {},
          "execution_count": 10
        }
      ]
    },
    {
      "cell_type": "code",
      "source": [
        "np.ones((3,9))"
      ],
      "metadata": {
        "colab": {
          "base_uri": "https://localhost:8080/"
        },
        "id": "c3fK-6NnjboS",
        "outputId": "4a2edea8-fe90-4258-a00d-5c331a523534"
      },
      "execution_count": 11,
      "outputs": [
        {
          "output_type": "execute_result",
          "data": {
            "text/plain": [
              "array([[1., 1., 1., 1., 1., 1., 1., 1., 1.],\n",
              "       [1., 1., 1., 1., 1., 1., 1., 1., 1.],\n",
              "       [1., 1., 1., 1., 1., 1., 1., 1., 1.]])"
            ]
          },
          "metadata": {},
          "execution_count": 11
        }
      ]
    },
    {
      "cell_type": "code",
      "source": [
        "np.linspace(0,10,10)"
      ],
      "metadata": {
        "colab": {
          "base_uri": "https://localhost:8080/"
        },
        "id": "yKZwH5EQkk7d",
        "outputId": "210068f6-b5e7-482a-e784-716481ac5b7f"
      },
      "execution_count": 12,
      "outputs": [
        {
          "output_type": "execute_result",
          "data": {
            "text/plain": [
              "array([ 0.        ,  1.11111111,  2.22222222,  3.33333333,  4.44444444,\n",
              "        5.55555556,  6.66666667,  7.77777778,  8.88888889, 10.        ])"
            ]
          },
          "metadata": {},
          "execution_count": 12
        }
      ]
    },
    {
      "cell_type": "code",
      "source": [
        "np.linspace(0,8,80)"
      ],
      "metadata": {
        "colab": {
          "base_uri": "https://localhost:8080/"
        },
        "id": "0nKI7bbFkstU",
        "outputId": "df7f9705-52ae-4560-b618-45cb59c5c0d7"
      },
      "execution_count": 13,
      "outputs": [
        {
          "output_type": "execute_result",
          "data": {
            "text/plain": [
              "array([0.        , 0.10126582, 0.20253165, 0.30379747, 0.40506329,\n",
              "       0.50632911, 0.60759494, 0.70886076, 0.81012658, 0.91139241,\n",
              "       1.01265823, 1.11392405, 1.21518987, 1.3164557 , 1.41772152,\n",
              "       1.51898734, 1.62025316, 1.72151899, 1.82278481, 1.92405063,\n",
              "       2.02531646, 2.12658228, 2.2278481 , 2.32911392, 2.43037975,\n",
              "       2.53164557, 2.63291139, 2.73417722, 2.83544304, 2.93670886,\n",
              "       3.03797468, 3.13924051, 3.24050633, 3.34177215, 3.44303797,\n",
              "       3.5443038 , 3.64556962, 3.74683544, 3.84810127, 3.94936709,\n",
              "       4.05063291, 4.15189873, 4.25316456, 4.35443038, 4.4556962 ,\n",
              "       4.55696203, 4.65822785, 4.75949367, 4.86075949, 4.96202532,\n",
              "       5.06329114, 5.16455696, 5.26582278, 5.36708861, 5.46835443,\n",
              "       5.56962025, 5.67088608, 5.7721519 , 5.87341772, 5.97468354,\n",
              "       6.07594937, 6.17721519, 6.27848101, 6.37974684, 6.48101266,\n",
              "       6.58227848, 6.6835443 , 6.78481013, 6.88607595, 6.98734177,\n",
              "       7.08860759, 7.18987342, 7.29113924, 7.39240506, 7.49367089,\n",
              "       7.59493671, 7.69620253, 7.79746835, 7.89873418, 8.        ])"
            ]
          },
          "metadata": {},
          "execution_count": 13
        }
      ]
    },
    {
      "cell_type": "code",
      "source": [
        "np.eye(5)"
      ],
      "metadata": {
        "colab": {
          "base_uri": "https://localhost:8080/"
        },
        "id": "nrF_OjGcq9kQ",
        "outputId": "1b8033a2-11d6-4408-fac7-4f1ed75a0fc6"
      },
      "execution_count": 14,
      "outputs": [
        {
          "output_type": "execute_result",
          "data": {
            "text/plain": [
              "array([[1., 0., 0., 0., 0.],\n",
              "       [0., 1., 0., 0., 0.],\n",
              "       [0., 0., 1., 0., 0.],\n",
              "       [0., 0., 0., 1., 0.],\n",
              "       [0., 0., 0., 0., 1.]])"
            ]
          },
          "metadata": {},
          "execution_count": 14
        }
      ]
    },
    {
      "cell_type": "code",
      "source": [
        "np.random.rand()"
      ],
      "metadata": {
        "colab": {
          "base_uri": "https://localhost:8080/"
        },
        "id": "1tk1OzNfrEPY",
        "outputId": "ebdd3326-056e-49ca-ae4d-355f7f456a25"
      },
      "execution_count": 21,
      "outputs": [
        {
          "output_type": "execute_result",
          "data": {
            "text/plain": [
              "0.3958251300684069"
            ]
          },
          "metadata": {},
          "execution_count": 21
        }
      ]
    },
    {
      "cell_type": "code",
      "source": [
        "np.random.rand(4)"
      ],
      "metadata": {
        "colab": {
          "base_uri": "https://localhost:8080/"
        },
        "id": "VwY2CxlvrlYS",
        "outputId": "d92af33a-1578-4868-d056-494571f2e9db"
      },
      "execution_count": 22,
      "outputs": [
        {
          "output_type": "execute_result",
          "data": {
            "text/plain": [
              "array([0.8291912 , 0.95922348, 0.12074214, 0.49701898])"
            ]
          },
          "metadata": {},
          "execution_count": 22
        }
      ]
    },
    {
      "cell_type": "code",
      "source": [
        "np.random.rand(4,5)"
      ],
      "metadata": {
        "colab": {
          "base_uri": "https://localhost:8080/"
        },
        "id": "fH8hjLPirxqO",
        "outputId": "4832b260-bfc2-4fd8-bc59-76e22e05e291"
      },
      "execution_count": 23,
      "outputs": [
        {
          "output_type": "execute_result",
          "data": {
            "text/plain": [
              "array([[0.98178752, 0.02768933, 0.58524432, 0.34234022, 0.77196382],\n",
              "       [0.29258012, 0.30074839, 0.35322989, 0.66259665, 0.4622845 ],\n",
              "       [0.36521792, 0.23330386, 0.48115361, 0.12398243, 0.36631767],\n",
              "       [0.58315652, 0.80042846, 0.00520389, 0.25689502, 0.92114768]])"
            ]
          },
          "metadata": {},
          "execution_count": 23
        }
      ]
    },
    {
      "cell_type": "code",
      "source": [
        "np.random.randint(2,20)"
      ],
      "metadata": {
        "colab": {
          "base_uri": "https://localhost:8080/"
        },
        "id": "GZNYGUDzsCHc",
        "outputId": "16a48654-ef1d-43d8-8432-7b2dd9e6e78d"
      },
      "execution_count": 31,
      "outputs": [
        {
          "output_type": "execute_result",
          "data": {
            "text/plain": [
              "12"
            ]
          },
          "metadata": {},
          "execution_count": 31
        }
      ]
    },
    {
      "cell_type": "markdown",
      "source": [
        "*Aquí se esta generando numeros aleatorios entre 1 y 100 donde lo organiza en una matriz de 10x10.*"
      ],
      "metadata": {
        "id": "SWn1-_Mjsm5A"
      }
    },
    {
      "cell_type": "code",
      "source": [
        "np.random.randint(1,100,(10,10))"
      ],
      "metadata": {
        "colab": {
          "base_uri": "https://localhost:8080/"
        },
        "id": "mavQTpkJsXT0",
        "outputId": "8db2a559-f0f9-44ef-ced8-e243d548b0fb"
      },
      "execution_count": 32,
      "outputs": [
        {
          "output_type": "execute_result",
          "data": {
            "text/plain": [
              "array([[63, 22, 45, 78, 92,  5,  7, 95, 84, 14],\n",
              "       [34, 84, 65, 75, 31,  5, 20,  3, 64, 54],\n",
              "       [61, 91, 55, 76, 10, 30, 35, 11, 51, 74],\n",
              "       [51, 57, 87, 80,  1, 95, 88, 14, 76, 58],\n",
              "       [35,  3, 26, 53, 75, 84, 25, 48, 20, 55],\n",
              "       [50, 78, 44, 90, 42, 64, 29,  8, 89, 91],\n",
              "       [27, 70, 50, 59, 84, 27, 51,  2, 90, 84],\n",
              "       [36,  2, 24, 42, 29, 66, 27, 65, 76, 21],\n",
              "       [42, 48, 61, 29, 67, 72, 44, 56, 38, 98],\n",
              "       [91, 63, 48, 50, 69, 95, 91, 60, 35, 26]])"
            ]
          },
          "metadata": {},
          "execution_count": 32
        }
      ]
    }
  ]
}